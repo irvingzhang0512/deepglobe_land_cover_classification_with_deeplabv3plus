{
 "cells": [
  {
   "cell_type": "code",
   "execution_count": 1,
   "metadata": {},
   "outputs": [],
   "source": [
    "import cv2\n",
    "import os"
   ]
  },
  {
   "cell_type": "code",
   "execution_count": 2,
   "metadata": {},
   "outputs": [],
   "source": [
    "src_dir = '/ssd/zhangyiyang/DeepGlobe/cig-wuxi-src/'\n",
    "file_names = os.listdir(src_dir)\n",
    "file_names = [_ for _ in file_names if not _.endswith('mask.png')]"
   ]
  },
  {
   "cell_type": "code",
   "execution_count": 3,
   "metadata": {},
   "outputs": [],
   "source": [
    "target_dir = '/ssd/zhangyiyang/DeepGlobe/cig-wuxi-src-3/'\n",
    "if not os.path.exists(target_dir):\n",
    "    os.makedirs(target_dir)\n",
    "scale = 0.5"
   ]
  },
  {
   "cell_type": "code",
   "execution_count": 4,
   "metadata": {},
   "outputs": [],
   "source": [
    "for file_name in file_names:\n",
    "    img = cv2.imread(src_dir + file_name)\n",
    "    h, w, _ = img.shape\n",
    "    new_h = int(h*scale)\n",
    "    new_w = int(w*scale)\n",
    "    new_img = cv2.resize(img, (new_w, new_h))\n",
    "    cv2.imwrite(target_dir + file_name, new_img)"
   ]
  },
  {
   "cell_type": "code",
   "execution_count": null,
   "metadata": {},
   "outputs": [],
   "source": []
  }
 ],
 "metadata": {
  "kernelspec": {
   "display_name": "Python 3",
   "language": "python",
   "name": "python3"
  },
  "language_info": {
   "codemirror_mode": {
    "name": "ipython",
    "version": 3
   },
   "file_extension": ".py",
   "mimetype": "text/x-python",
   "name": "python",
   "nbconvert_exporter": "python",
   "pygments_lexer": "ipython3",
   "version": "3.6.8"
  }
 },
 "nbformat": 4,
 "nbformat_minor": 2
}
